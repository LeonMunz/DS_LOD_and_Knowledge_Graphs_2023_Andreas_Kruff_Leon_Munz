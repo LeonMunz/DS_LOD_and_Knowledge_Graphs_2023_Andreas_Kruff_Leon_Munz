{
 "cells": [
  {
   "cell_type": "markdown",
   "source": [
    "#### Instructions:\n",
    "\n",
    "For model installation run: \n",
    "> pip install https://s3-us-west-2.amazonaws.com/ai2-s2-scispacy/releases/v0.5.3/en_ner_bionlp13cg_md-0.5.3.tar.gz\n"
   ],
   "metadata": {
    "collapsed": false
   },
   "id": "39732dee0bdb7a6"
  },
  {
   "cell_type": "code",
   "execution_count": null,
   "outputs": [],
   "source": [
    "import os\n",
    "import pickle\n",
    "\n",
    "pickle_file_path = os.path.join('..', 'data', 'dataset_5k.pickle')\n",
    "\n",
    "with open(pickle_file_path, \"rb\") as pickle_file:\n",
    "    data = pickle.load(pickle_file)\n",
    "\n",
    "len(data)"
   ],
   "metadata": {
    "collapsed": false
   },
   "id": "55209809fcf60259"
  },
  {
   "cell_type": "code",
   "execution_count": null,
   "outputs": [],
   "source": [
    "from tqdm import tqdm\n",
    "import spacy\n",
    "import pickle\n",
    "import os\n",
    "\n",
    "nlp = spacy.load(\"en_ner_bionlp13cg_md\")\n",
    "\n",
    "entity_list = []\n",
    "\n",
    "for doc in tqdm(data, desc=\"Processing of documents\"):\n",
    "    if 'abstract_inverted_index' in doc and doc['abstract_inverted_index']:\n",
    "\n",
    "        doc_entities = {'ID': doc['id'], 'hasGene_GeneProduct': [], 'hasCEL': [], 'hasORGANISM': [], 'hasORGAN': []}\n",
    "\n",
    "        for key in doc['abstract_inverted_index']:\n",
    "            text_for_key = key.lower()  \n",
    "            if text_for_key:\n",
    "                key_doc = nlp(text_for_key)\n",
    "\n",
    "                for ent in key_doc.ents:\n",
    "                    if ent.label_ == \"GENE_OR_GENE_PRODUCT\":\n",
    "                        doc_entities['hasGene_GeneProduct'].append(ent.text)\n",
    "                    elif ent.label_ == \"CELL\":\n",
    "                        doc_entities['hasCEL'].append(ent.text)\n",
    "                    elif ent.label_ == \"ORGANISM\":\n",
    "                        doc_entities['hasORGANISM'].append(ent.text)\n",
    "                    elif ent.label_ == \"ORGAN\":\n",
    "                        doc_entities['hasORGAN'].append(ent.text)\n",
    "\n",
    "        entity_list.append(doc_entities)\n",
    "\n",
    "pickle_file_path = os.path.join('..', 'data', 'NER_data.pickle')\n",
    "with open(pickle_file_path, 'wb') as pickle_file:\n",
    "    pickle.dump(entity_list, pickle_file)\n",
    "\n",
    "print(f\"The results list was saved in the file '{pickle_file_path}'\")\n"
   ],
   "metadata": {
    "collapsed": false
   },
   "id": "b6799b552febf7f9"
  }
 ],
 "metadata": {
  "kernelspec": {
   "display_name": "Python 3",
   "language": "python",
   "name": "python3"
  },
  "language_info": {
   "codemirror_mode": {
    "name": "ipython",
    "version": 2
   },
   "file_extension": ".py",
   "mimetype": "text/x-python",
   "name": "python",
   "nbconvert_exporter": "python",
   "pygments_lexer": "ipython2",
   "version": "2.7.6"
  }
 },
 "nbformat": 4,
 "nbformat_minor": 5
}
