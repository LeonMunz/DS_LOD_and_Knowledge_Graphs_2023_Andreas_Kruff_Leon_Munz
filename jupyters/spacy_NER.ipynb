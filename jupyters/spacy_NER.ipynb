{
 "cells": [
  {
   "cell_type": "markdown",
   "source": [
    "# NER\n",
    "#### Explanation:\n",
    "\n",
    "\n",
    "\n",
    "#### Instructions:\n",
    "\n",
    "For model installation run: \n",
    "> pip install https://s3-us-west-2.amazonaws.com/ai2-s2-scispacy/releases/v0.5.3/en_ner_bionlp13cg_md-0.5.3.tar.gz\n"
   ],
   "metadata": {
    "collapsed": false
   },
   "id": "39732dee0bdb7a6"
  },
  {
   "cell_type": "code",
   "execution_count": 39,
   "outputs": [
    {
     "name": "stdout",
     "output_type": "stream",
     "text": [
      "(BRCA1,\n",
      " Bacterial Species Escherichia coli,\n",
      " Cancer,\n",
      " tumor,\n",
      " BRCA1,\n",
      " Escherichia coli,\n",
      " E. coli,\n",
      " BRCA1,\n",
      " E. coli,\n",
      " BRCA1,\n",
      " E. coli,\n",
      " cancer,\n",
      " E. coli,\n",
      " BRCA1-related,\n",
      " cancer,\n",
      " host-microbiome,\n",
      " E. coli,\n",
      " cancer,\n",
      " BRCA1)\n",
      "Word: BRCA1, Label: GENE_OR_GENE_PRODUCT\n",
      "Word: Bacterial Species Escherichia coli, Label: GENE_OR_GENE_PRODUCT\n",
      "Word: Cancer, Label: CANCER\n",
      "Word: tumor, Label: CANCER\n",
      "Word: BRCA1, Label: GENE_OR_GENE_PRODUCT\n",
      "Word: Escherichia coli, Label: ORGANISM\n",
      "Word: E. coli, Label: ORGANISM\n",
      "Word: BRCA1, Label: GENE_OR_GENE_PRODUCT\n",
      "Word: E. coli, Label: ORGANISM\n",
      "Word: BRCA1, Label: GENE_OR_GENE_PRODUCT\n",
      "Word: E. coli, Label: ORGANISM\n",
      "Word: cancer, Label: CANCER\n",
      "Word: E. coli, Label: ORGANISM\n",
      "Word: BRCA1-related, Label: CANCER\n",
      "Word: cancer, Label: CANCER\n",
      "Word: host-microbiome, Label: CELLULAR_COMPONENT\n",
      "Word: E. coli, Label: ORGANISM\n",
      "Word: cancer, Label: CANCER\n",
      "Word: BRCA1, Label: GENE_OR_GENE_PRODUCT\n"
     ]
    }
   ],
   "source": [
    "# https://allenai.github.io/scispacy/\n",
    "\n",
    "import spacy\n",
    "\n",
    "nlp = spacy.load(\"en_ner_bionlp13cg_md\")\n",
    "\n",
    "text = \"\"\"\n",
    "**Title:** Interplay of Gene BRCA1 and Bacterial Species Escherichia coli in Cancer\n",
    "\n",
    "**Abstract:**\n",
    "\n",
    "This study investigates the relationship between the tumor suppressor gene BRCA1 and the bacterial species Escherichia coli (E. coli). Using advanced sequencing, we analyze BRCA1 expression patterns in the presence of E. coli. Our findings suggest microbial interactions modulating BRCA1 expression, implicating E. coli in cancer susceptibility.\n",
    "\n",
    "We explore molecular mechanisms underlying the impact of E. coli on BRCA1-related pathways, revealing insights into host-microbiome interplay. This research expands cancer etiology understanding, highlighting potential therapeutic interventions by manipulating the host-microbiome relationship.\n",
    "\n",
    "In conclusion, our study emphasizes considering the microbiome, especially E. coli, in cancer genetics. Findings extend beyond BRCA1, paving the way for broader exploration of gene-microbiome interactions in complex diseases.\n",
    "\"\"\"\n",
    "\n",
    "doc = nlp(text)\n",
    "import pprint\n",
    "\n",
    "pprint.pprint(doc.ents)\n",
    "\n",
    "for ent in doc.ents:\n",
    "    print(f\"Word: {ent.text}, Label: {ent.label_}\")\n"
   ],
   "metadata": {
    "collapsed": false,
    "ExecuteTime": {
     "end_time": "2023-12-15T13:11:29.776803251Z",
     "start_time": "2023-12-15T13:11:18.414805591Z"
    }
   },
   "id": "7fad66bc5e6fe894"
  },
  {
   "cell_type": "code",
   "execution_count": null,
   "outputs": [],
   "source": [],
   "metadata": {
    "collapsed": false
   },
   "id": "72a782f0bc566090"
  }
 ],
 "metadata": {
  "kernelspec": {
   "display_name": "Python 3",
   "language": "python",
   "name": "python3"
  },
  "language_info": {
   "codemirror_mode": {
    "name": "ipython",
    "version": 2
   },
   "file_extension": ".py",
   "mimetype": "text/x-python",
   "name": "python",
   "nbconvert_exporter": "python",
   "pygments_lexer": "ipython2",
   "version": "2.7.6"
  }
 },
 "nbformat": 4,
 "nbformat_minor": 5
}
