{
 "cells": [
  {
   "cell_type": "code",
   "execution_count": null,
   "id": "initial_id",
   "metadata": {
    "collapsed": true
   },
   "outputs": [],
   "source": [
    "import os\n",
    "import pickle\n",
    "from tqdm import tqdm\n"
   ]
  },
  {
   "cell_type": "code",
   "execution_count": null,
   "outputs": [],
   "source": [
    "pickle_file_path = os.path.join('..', 'data', 'NER_data_2.pickle')\n",
    "\n",
    "with open(pickle_file_path, \"rb\") as pickle_file:\n",
    "    data_NER = pickle.load(pickle_file)\n",
    "len(data_NER)"
   ],
   "metadata": {
    "collapsed": false
   },
   "id": "42b0be0bd45a73ad"
  },
  {
   "cell_type": "code",
   "execution_count": null,
   "outputs": [],
   "source": [
    "def plot_category_counts(unique_counts, total_counts, title):\n",
    "    categories = list(unique_counts.keys())\n",
    "    unique_values = list(unique_counts.values())\n",
    "    total_values = list(total_counts.values())\n",
    "\n",
    "    x = range(len(categories))\n",
    "    width = 0.35\n",
    "\n",
    "    fig, ax = plt.subplots(figsize=(7, 7))\n",
    "\n",
    "    unique_bars = ax.bar(x, unique_values, width, label='Unique Items')\n",
    "    total_bars = ax.bar([i + width for i in x], total_values, width, label='Total Items')\n",
    "\n",
    "    ax.set_ylabel('Counts')\n",
    "    ax.set_title(title)\n",
    "    ax.set_xticks([i + width / 2 for i in x])\n",
    "    ax.set_xticklabels(categories)\n",
    "    ax.legend()\n",
    "\n",
    "    def autolabel(bars):\n",
    "        for bar in bars:\n",
    "            height = bar.get_height()\n",
    "            ax.annotate('{}'.format(height),\n",
    "                        xy=(bar.get_x() + bar.get_width() / 2, height),\n",
    "                        xytext=(0, 3),\n",
    "                        textcoords=\"offset points\",\n",
    "                        ha='center', va='bottom')\n",
    "\n",
    "    autolabel(unique_bars)\n",
    "    autolabel(total_bars)\n",
    "\n",
    "    plt.xticks(rotation=45, ha='right')\n",
    "    plt.tight_layout()\n",
    "    plt.show()\n",
    "\n",
    "\n",
    "# Initialize sets for each key\n",
    "unique_gene_products = set()\n",
    "unique_cels = set()\n",
    "unique_organisms = set()\n",
    "unique_organs = set()\n",
    "\n",
    "# Iterate through the list of dictionaries\n",
    "for item in data_NER:\n",
    "    unique_gene_products.update(item.get('hasGene_GeneProduct', set()))\n",
    "    unique_cels.update(item.get('hasCEL', set()))\n",
    "    unique_organisms.update(item.get('hasORGANISM', set()))\n",
    "    unique_organs.update(item.get('hasORGAN', set()))\n",
    "\n",
    "total_gene_products = sum(len(item.get('hasGene_GeneProduct', set())) for item in data_NER)\n",
    "total_cels = sum(len(item.get('hasCEL', set())) for item in data_NER)\n",
    "total_organisms = sum(len(item.get('hasORGANISM', set())) for item in data_NER)\n",
    "total_organs = sum(len(item.get('hasORGAN', set())) for item in data_NER)\n",
    "\n",
    "\n",
    "unique_counts = {\n",
    "    'hasGene_GeneProduct': len(unique_gene_products),\n",
    "    'hasCEL': len(unique_cels),\n",
    "    'hasORGANISM': len(unique_organisms),\n",
    "    'hasORGAN': len(unique_organs)\n",
    "}\n",
    "\n",
    "total_counts = {\n",
    "    'hasGene_GeneProduct': total_gene_products,\n",
    "    'hasCEL': total_cels,\n",
    "    'hasORGANISM': total_organisms,\n",
    "    'hasORGAN': total_organs\n",
    "}\n",
    "\n",
    "# Aufrufen der Funktion, um das Balkendiagramm zu erstellen\n",
    "plot_category_counts(unique_counts, total_counts, title='Count of Unique and Total Items by Category: NER Spacy')\n"
   ],
   "metadata": {
    "collapsed": false
   },
   "id": "19b1832d6f39097b"
  },
  {
   "cell_type": "code",
   "execution_count": null,
   "outputs": [],
   "source": [
    "data_NER[1]"
   ],
   "metadata": {
    "collapsed": false
   },
   "id": "9946580dd3e3e236"
  },
  {
   "cell_type": "code",
   "execution_count": null,
   "outputs": [],
   "source": [
    "import requests\n",
    "import re\n",
    "\n",
    "def extract_mesh_term(translation_set):\n",
    "    mesh_term_match = re.search(r'\"([^\"]+)\"\\[MeSH Terms\\]', translation_set)\n",
    "    if mesh_term_match:\n",
    "        return mesh_term_match.group(1)\n",
    "    else:\n",
    "        return None\n",
    "\n",
    "def clean_ner_data_by_mesh(term):\n",
    "    base_url = 'https://eutils.ncbi.nlm.nih.gov/entrez/eutils/'\n",
    "    db = 'pubmed'\n",
    "    retmax = 10\n",
    "    \n",
    "    url = f\"{base_url}esearch.fcgi?db={db}&term={term}&retmax={retmax}&retmode=json\"\n",
    "    response = requests.get(url)\n",
    "    \n",
    "    if response.status_code == 200:\n",
    "        try:\n",
    "            data = response.json()\n",
    "            translation_set = data['esearchresult']['translationset'][0]['to']\n",
    "            mesh_term = extract_mesh_term(translation_set)\n",
    "            return mesh_term\n",
    "        except (IndexError, KeyError, ValueError, requests.RequestException) as e:\n",
    "            return None\n",
    "    else:\n",
    "        print('Error in the request:', response.status_code)\n",
    "        return None\n",
    "\n",
    "\n",
    "    \n",
    "#term = 'staphylococcus aureus'\n",
    "term = 'california'\n",
    "result = clean_ner_data_by_mesh(term)\n",
    "result"
   ],
   "metadata": {
    "collapsed": false
   },
   "id": "bf7b4358ea8a6ba9"
  },
  {
   "cell_type": "code",
   "execution_count": null,
   "outputs": [],
   "source": [
    "data_NER_test = data_NER[2500:]\n",
    "\n",
    "for item in tqdm(data_NER_test):\n",
    "    for key, value in item.items():\n",
    "\n",
    "        if isinstance(value, set):\n",
    "            mesh_set = set()\n",
    "            for term in value:\n",
    "                mesh_term = clean_ner_data_by_mesh(term)\n",
    "                if mesh_term:\n",
    "                    mesh_set.add(mesh_term)\n",
    "\n",
    "            item[key] = mesh_set\n",
    "\n",
    "#print(data_NER_test)\n",
    "pickle_file_path = os.path.join('..', 'data', 'NER_data_2_enriched_2_part2.pickle')\n",
    "with open(pickle_file_path, 'wb') as pickle_file:\n",
    "    pickle.dump(data_NER_test, pickle_file)\n",
    "\n",
    "print(f\"The results list has been saved in the file '{pickle_file_path}'\")\n"
   ],
   "metadata": {
    "collapsed": false
   },
   "id": "5fb7f260c19e68ec"
  },
  {
   "cell_type": "code",
   "execution_count": null,
   "outputs": [],
   "source": [
    "pickle_file_path = os.path.join('..', 'data', 'NER_data_2_enriched_2_part2.pickle')\n",
    "\n",
    "with open(pickle_file_path, \"rb\") as pickle_file:\n",
    "    data_NER_aufruf = pickle.load(pickle_file)\n",
    "\n",
    "print(len(data_NER_aufruf))"
   ],
   "metadata": {
    "collapsed": false
   },
   "id": "270fbded2aec170e"
  },
  {
   "cell_type": "code",
   "execution_count": null,
   "outputs": [],
   "source": [
    "import os\n",
    "import pickle\n",
    "\n",
    "\n",
    "pickle_directory = os.path.join('..', 'data')\n",
    "pickle_files = ['NER_data_2_enriched_2.pickle', 'NER_data_2_enriched_2_part2.pickle']\n",
    "\n",
    "combined_data = []\n",
    "\n",
    "for file_name in pickle_files:\n",
    "    file_path = os.path.join(pickle_directory, file_name)\n",
    "    with open(file_path, 'rb') as f:\n",
    "        data = pickle.load(f)\n",
    "        combined_data.extend(data)\n",
    "\n",
    "\n",
    "output_file = os.path.join(pickle_directory, 'NER_data_MESH.pickle')\n",
    "with open(output_file, 'wb') as f:\n",
    "    pickle.dump(combined_data, f)\n",
    "\n",
    "print(f\"The combined data was stored in {output_file}.\")\n"
   ],
   "metadata": {
    "collapsed": false
   },
   "id": "f3cfacda3f53edb0"
  },
  {
   "cell_type": "code",
   "execution_count": null,
   "outputs": [],
   "source": [
    "pickle_file_path = os.path.join('..', 'data', 'NER_data_MESH.pickle')\n",
    "\n",
    "with open(pickle_file_path, \"rb\") as pickle_file:\n",
    "    data_NER_aufruf = pickle.load(pickle_file)\n",
    "\n",
    "print(len(data_NER_aufruf))"
   ],
   "metadata": {
    "collapsed": false
   },
   "id": "f84c401ba984e07f"
  },
  {
   "cell_type": "markdown",
   "source": [
    "#### Comparison of frequency of extracted entities before and after MASH enrichment"
   ],
   "metadata": {
    "collapsed": false
   },
   "id": "b5cf1640e2677477"
  },
  {
   "cell_type": "code",
   "execution_count": null,
   "outputs": [],
   "source": [
    "unique_gene_products = set()\n",
    "unique_cels = set()\n",
    "unique_organisms = set()\n",
    "unique_organs = set()\n",
    "\n",
    "\n",
    "for item in data_NER_aufruf:\n",
    "    unique_gene_products.update(item.get('hasGene_GeneProduct', set()))\n",
    "    unique_cels.update(item.get('hasCEL', set()))\n",
    "    unique_organisms.update(item.get('hasORGANISM', set()))\n",
    "    unique_organs.update(item.get('hasORGAN', set()))\n",
    "\n",
    "\n",
    "total_gene_products = sum(len(item.get('hasGene_GeneProduct', set())) for item in data_NER_aufruf)\n",
    "total_cels = sum(len(item.get('hasCEL', set())) for item in data_NER_aufruf)\n",
    "total_organisms = sum(len(item.get('hasORGANISM', set())) for item in data_NER_aufruf)\n",
    "total_organs = sum(len(item.get('hasORGAN', set())) for item in data_NER_aufruf)\n",
    "\n",
    "\n",
    "unique_counts_MESH = {\n",
    "    'hasGene_GeneProduct': len(unique_gene_products),\n",
    "    'hasCEL': len(unique_cels),\n",
    "    'hasORGANISM': len(unique_organisms),\n",
    "    'hasORGAN': len(unique_organs)\n",
    "}\n",
    "\n",
    "total_counts_MESH = {\n",
    "    'hasGene_GeneProduct': total_gene_products,\n",
    "    'hasCEL': total_cels,\n",
    "    'hasORGANISM': total_organisms,\n",
    "    'hasORGAN': total_organs\n",
    "}\n",
    "\n",
    "plot_category_counts(unique_counts, total_counts, title='Count of Unique and Total Items by Category: NER Spacy')\n",
    "plot_category_counts(unique_counts_MESH, total_counts_MESH, title='Count of Unique and Total Items by Category: NER Spacy + MASH')\n"
   ],
   "metadata": {
    "collapsed": false
   },
   "id": "cade986d7d773665"
  },
  {
   "cell_type": "markdown",
   "source": [
    "#### Frequency of entities after MASH enrichment"
   ],
   "metadata": {
    "collapsed": false
   },
   "id": "ee097ceeaf63695f"
  },
  {
   "cell_type": "code",
   "execution_count": null,
   "outputs": [],
   "source": [
    "import matplotlib.pyplot as plt\n",
    "from collections import Counter\n",
    "\n",
    "categories = ['hasGene_GeneProduct', 'hasCEL', 'hasORGANISM', 'hasORGAN']\n",
    "total_counts = [total_gene_products, total_cels, total_organisms, total_organs]\n",
    "\n",
    "fig, axs = plt.subplots(2, 2, figsize=(12, 8))\n",
    "\n",
    "for category, total_count, ax in zip(categories, total_counts, axs.flatten()):\n",
    "    all_terms = [term for sublist in (item.get(category, []) for item in data_NER_aufruf) for term in sublist]\n",
    "    term_counts = Counter(all_terms)\n",
    "    top_terms = [term[0] for term in term_counts.most_common(20)]\n",
    "    top_frequencies = [term_counts[term] for term in top_terms]\n",
    "\n",
    "    ax.barh(top_terms, top_frequencies, color='skyblue')\n",
    "    ax.set_title(f'Top 20 Most Frequent Terms in {category}')\n",
    "    ax.set_xlabel('Frequency')\n",
    "\n",
    "    ax.invert_yaxis()\n",
    "\n",
    "\n",
    "plt.tight_layout()\n",
    "plt.show()\n"
   ],
   "metadata": {
    "collapsed": false
   },
   "id": "243f5df5d9f365ab"
  }
 ],
 "metadata": {
  "kernelspec": {
   "display_name": "Python 3",
   "language": "python",
   "name": "python3"
  },
  "language_info": {
   "codemirror_mode": {
    "name": "ipython",
    "version": 2
   },
   "file_extension": ".py",
   "mimetype": "text/x-python",
   "name": "python",
   "nbconvert_exporter": "python",
   "pygments_lexer": "ipython2",
   "version": "2.7.6"
  }
 },
 "nbformat": 4,
 "nbformat_minor": 5
}
