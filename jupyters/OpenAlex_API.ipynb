{
 "cells": [
  {
   "cell_type": "code",
   "execution_count": 2,
   "id": "initial_id",
   "metadata": {
    "collapsed": true,
    "ExecuteTime": {
     "end_time": "2023-11-22T12:40:42.477880957Z",
     "start_time": "2023-11-22T12:40:42.364457184Z"
    }
   },
   "outputs": [],
   "source": [
    "import requests\n",
    "from pyalex import Works, Authors, Sources, Institutions, Concepts, Publishers, Funders"
   ]
  },
  {
   "cell_type": "code",
   "execution_count": 14,
   "outputs": [],
   "source": [
    "concepts, meta = Concepts().get(return_meta=True)\n",
    "concept_names = [concept['display_name'] for page in Concepts().paginate(per_page=200) for concept in page]"
   ],
   "metadata": {
    "collapsed": false,
    "ExecuteTime": {
     "end_time": "2023-11-22T12:48:19.869023935Z",
     "start_time": "2023-11-22T12:46:47.962742492Z"
    }
   },
   "id": "428c39d3261574b2"
  },
  {
   "cell_type": "code",
   "execution_count": 18,
   "outputs": [
    {
     "data": {
      "text/plain": "10000"
     },
     "execution_count": 18,
     "metadata": {},
     "output_type": "execute_result"
    }
   ],
   "source": [
    "len(concept_names)"
   ],
   "metadata": {
    "collapsed": false,
    "ExecuteTime": {
     "end_time": "2023-11-22T12:51:26.130208741Z",
     "start_time": "2023-11-22T12:51:26.089043081Z"
    }
   },
   "id": "48d2b869d099caf8"
  },
  {
   "cell_type": "code",
   "execution_count": 21,
   "outputs": [
    {
     "name": "stdout",
     "output_type": "stream",
     "text": [
      "['Microbiology', 'Isolation (microbiology)', 'Flora (microbiology)', 'Medical microbiology', 'Clinical microbiology']\n"
     ]
    }
   ],
   "source": [
    "search_term = \"Microbiology\"\n",
    "# Search for concept\n",
    "matching_concepts = [concept_name for concept_name in concept_names if search_term.lower() in concept_name.lower()]\n",
    "print(matching_concepts)"
   ],
   "metadata": {
    "collapsed": false,
    "ExecuteTime": {
     "end_time": "2023-11-22T12:54:37.149245766Z",
     "start_time": "2023-11-22T12:54:37.108560053Z"
    }
   },
   "id": "ede3b116e90e07cb"
  },
  {
   "cell_type": "code",
   "execution_count": 54,
   "outputs": [
    {
     "data": {
      "text/plain": "'https://openalex.org/C89423630'"
     },
     "execution_count": 54,
     "metadata": {},
     "output_type": "execute_result"
    }
   ],
   "source": [
    "microbiology_concepts = Concepts().search(\"Microbiology\").get()\n",
    "microbiology_concept_id = microbiology_concepts[0][\"id\"]\n",
    "microbiology_concept_id"
   ],
   "metadata": {
    "collapsed": false,
    "ExecuteTime": {
     "end_time": "2023-11-22T13:30:14.337751163Z",
     "start_time": "2023-11-22T13:30:13.788041009Z"
    }
   },
   "id": "480778f789062b2e"
  },
  {
   "cell_type": "code",
   "execution_count": 39,
   "outputs": [],
   "source": [
    "microbiology_concepts = Concepts().search(\"Microbiology\").get()\n",
    "\n",
    "if microbiology_concepts:\n",
    "    microbiology_concept_id = microbiology_concepts[0][\"id\"]\n",
    "    microbiology_works = Works().filter(concepts={\"id\": microbiology_concept_id}).get()"
   ],
   "metadata": {
    "collapsed": false,
    "ExecuteTime": {
     "end_time": "2023-11-22T13:09:50.312530147Z",
     "start_time": "2023-11-22T13:09:49.176698358Z"
    }
   },
   "id": "467b70d7dc1ac7e9"
  },
  {
   "cell_type": "code",
   "execution_count": 42,
   "outputs": [
    {
     "data": {
      "text/plain": "25"
     },
     "execution_count": 42,
     "metadata": {},
     "output_type": "execute_result"
    }
   ],
   "source": [
    "len(microbiology_works)"
   ],
   "metadata": {
    "collapsed": false,
    "ExecuteTime": {
     "end_time": "2023-11-22T13:17:20.120499205Z",
     "start_time": "2023-11-22T13:17:20.064806678Z"
    }
   },
   "id": "4c318a01ed34eda"
  },
  {
   "cell_type": "code",
   "execution_count": null,
   "outputs": [],
   "source": [
    "microbiology_concepts = Concepts().search(\"Microbiology\").get()\n",
    "\n",
    "if microbiology_concepts:\n",
    "    # Take ID of first found concept\n",
    "    microbiology_concept_id = microbiology_concepts[0][\"id\"]\n",
    "    # Filter for concept\n",
    "    works_query = Works().filter(concepts={\"id\": microbiology_concept_id})\n",
    "    # Paging\n",
    "    per_page = 25\n",
    "    pager = works_query.paginate(per_page=per_page)\n",
    "\n",
    "    all_works = []\n",
    "    for page in pager:\n",
    "        all_works.extend(page)"
   ],
   "metadata": {
    "collapsed": false
   },
   "id": "5cc43e64d4a1bcec"
  },
  {
   "cell_type": "code",
   "execution_count": 43,
   "outputs": [
    {
     "data": {
      "text/plain": "10000"
     },
     "execution_count": 43,
     "metadata": {},
     "output_type": "execute_result"
    }
   ],
   "source": [
    "len(all_works)"
   ],
   "metadata": {
    "collapsed": false,
    "ExecuteTime": {
     "end_time": "2023-11-22T13:19:36.572077671Z",
     "start_time": "2023-11-22T13:19:36.530729383Z"
    }
   },
   "id": "bdac0d8b925cb9f6"
  },
  {
   "cell_type": "code",
   "execution_count": 47,
   "outputs": [
    {
     "data": {
      "text/plain": "{'id': 'https://openalex.org/W2168526937',\n 'doi': 'https://doi.org/10.1016/s0021-9258(18)64849-5',\n 'title': 'A SIMPLE METHOD FOR THE ISOLATION AND PURIFICATION OF TOTAL LIPIDES FROM ANIMAL TISSUES',\n 'display_name': 'A SIMPLE METHOD FOR THE ISOLATION AND PURIFICATION OF TOTAL LIPIDES FROM ANIMAL TISSUES',\n 'publication_year': 1957,\n 'publication_date': '1957-05-01',\n 'ids': {'openalex': 'https://openalex.org/W2168526937',\n  'doi': 'https://doi.org/10.1016/s0021-9258(18)64849-5',\n  'mag': '2168526937',\n  'pmid': 'https://pubmed.ncbi.nlm.nih.gov/13428781'},\n 'language': 'en',\n 'primary_location': {'is_oa': True,\n  'landing_page_url': 'https://doi.org/10.1016/s0021-9258(18)64849-5',\n  'pdf_url': None,\n  'source': {'id': 'https://openalex.org/S140251998',\n   'display_name': 'Journal of Biological Chemistry',\n   'issn_l': '0021-9258',\n   'issn': ['1083-351X', '0021-9258', '1067-8816'],\n   'is_oa': True,\n   'is_in_doaj': True,\n   'host_organization': 'https://openalex.org/P4310320990',\n   'host_organization_name': 'Elsevier BV',\n   'host_organization_lineage': ['https://openalex.org/P4310320990'],\n   'host_organization_lineage_names': ['Elsevier BV'],\n   'type': 'journal'},\n  'license': 'cc-by',\n  'version': 'publishedVersion',\n  'is_accepted': True,\n  'is_published': True},\n 'type': 'article',\n 'type_crossref': 'journal-article',\n 'open_access': {'is_oa': True,\n  'oa_status': 'gold',\n  'oa_url': 'https://doi.org/10.1016/s0021-9258(18)64849-5',\n  'any_repository_has_fulltext': False},\n 'authorships': [{'author_position': 'first',\n   'author': {'id': 'https://openalex.org/A5060503589',\n    'display_name': 'Jordi Folch',\n    'orcid': None},\n   'institutions': [],\n   'countries': [],\n   'is_corresponding': False,\n   'raw_author_name': 'Jordi Folch',\n   'raw_affiliation_string': '',\n   'raw_affiliation_strings': []},\n  {'author_position': 'middle',\n   'author': {'id': 'https://openalex.org/A5035124128',\n    'display_name': 'Marjorie B. Lees',\n    'orcid': None},\n   'institutions': [],\n   'countries': [],\n   'is_corresponding': False,\n   'raw_author_name': 'Marjorie B. Lees',\n   'raw_affiliation_string': '',\n   'raw_affiliation_strings': []},\n  {'author_position': 'last',\n   'author': {'id': 'https://openalex.org/A5037180728',\n    'display_name': 'G. H. Sloane Stanley',\n    'orcid': None},\n   'institutions': [],\n   'countries': [],\n   'is_corresponding': False,\n   'raw_author_name': 'G. H. Sloane Stanley',\n   'raw_affiliation_string': '',\n   'raw_affiliation_strings': []}],\n 'countries_distinct_count': 0,\n 'institutions_distinct_count': 0,\n 'corresponding_author_ids': [],\n 'corresponding_institution_ids': [],\n 'apc_list': {'value': 2500,\n  'currency': 'USD',\n  'value_usd': 2500,\n  'provenance': 'doaj'},\n 'apc_paid': {'value': 2500,\n  'currency': 'USD',\n  'value_usd': 2500,\n  'provenance': 'doaj'},\n 'has_fulltext': False,\n 'cited_by_count': 58087,\n 'cited_by_percentile_year': None,\n 'biblio': {'volume': '226',\n  'issue': '1',\n  'first_page': '497',\n  'last_page': '509'},\n 'is_retracted': False,\n 'is_paratext': False,\n 'keywords': [{'keyword': 'total lipides', 'score': 0.7032},\n  {'keyword': 'purification', 'score': 0.3534},\n  {'keyword': 'animal tissues', 'score': 0.3398}],\n 'concepts': [{'id': 'https://openalex.org/C2775941552',\n   'wikidata': 'https://www.wikidata.org/wiki/Q25212305',\n   'display_name': 'Isolation (microbiology)',\n   'level': 2,\n   'score': 0.78182},\n  {'id': 'https://openalex.org/C2780586882',\n   'wikidata': 'https://www.wikidata.org/wiki/Q7520643',\n   'display_name': 'Simple (philosophy)',\n   'level': 2,\n   'score': 0.6611569},\n  {'id': 'https://openalex.org/C185592680',\n   'wikidata': 'https://www.wikidata.org/wiki/Q2329',\n   'display_name': 'Chemistry',\n   'level': 0,\n   'score': 0.45555764},\n  {'id': 'https://openalex.org/C43617362',\n   'wikidata': 'https://www.wikidata.org/wiki/Q170050',\n   'display_name': 'Chromatography',\n   'level': 1,\n   'score': 0.41951185},\n  {'id': 'https://openalex.org/C86803240',\n   'wikidata': 'https://www.wikidata.org/wiki/Q420',\n   'display_name': 'Biology',\n   'level': 0,\n   'score': 0.41250244},\n  {'id': 'https://openalex.org/C55493867',\n   'wikidata': 'https://www.wikidata.org/wiki/Q7094',\n   'display_name': 'Biochemistry',\n   'level': 1,\n   'score': 0.36000553},\n  {'id': 'https://openalex.org/C89423630',\n   'wikidata': 'https://www.wikidata.org/wiki/Q7193',\n   'display_name': 'Microbiology',\n   'level': 1,\n   'score': 0.15734282},\n  {'id': 'https://openalex.org/C138885662',\n   'wikidata': 'https://www.wikidata.org/wiki/Q5891',\n   'display_name': 'Philosophy',\n   'level': 0,\n   'score': 0.0},\n  {'id': 'https://openalex.org/C111472728',\n   'wikidata': 'https://www.wikidata.org/wiki/Q9471',\n   'display_name': 'Epistemology',\n   'level': 1,\n   'score': 0.0}],\n 'mesh': [],\n 'locations_count': 1,\n 'locations': [{'is_oa': True,\n   'landing_page_url': 'https://doi.org/10.1016/s0021-9258(18)64849-5',\n   'pdf_url': None,\n   'source': {'id': 'https://openalex.org/S140251998',\n    'display_name': 'Journal of Biological Chemistry',\n    'issn_l': '0021-9258',\n    'issn': ['1083-351X', '0021-9258', '1067-8816'],\n    'is_oa': True,\n    'is_in_doaj': True,\n    'host_organization': 'https://openalex.org/P4310320990',\n    'host_organization_name': 'Elsevier BV',\n    'host_organization_lineage': ['https://openalex.org/P4310320990'],\n    'host_organization_lineage_names': ['Elsevier BV'],\n    'type': 'journal'},\n   'license': 'cc-by',\n   'version': 'publishedVersion',\n   'is_accepted': True,\n   'is_published': True}],\n 'best_oa_location': {'is_oa': True,\n  'landing_page_url': 'https://doi.org/10.1016/s0021-9258(18)64849-5',\n  'pdf_url': None,\n  'source': {'id': 'https://openalex.org/S140251998',\n   'display_name': 'Journal of Biological Chemistry',\n   'issn_l': '0021-9258',\n   'issn': ['1083-351X', '0021-9258', '1067-8816'],\n   'is_oa': True,\n   'is_in_doaj': True,\n   'host_organization': 'https://openalex.org/P4310320990',\n   'host_organization_name': 'Elsevier BV',\n   'host_organization_lineage': ['https://openalex.org/P4310320990'],\n   'host_organization_lineage_names': ['Elsevier BV'],\n   'type': 'journal'},\n  'license': 'cc-by',\n  'version': 'publishedVersion',\n  'is_accepted': True,\n  'is_published': True},\n 'sustainable_development_goals': [{'id': 'https://metadata.un.org/sdg/2',\n   'display_name': 'Zero hunger',\n   'score': 0.65},\n  {'id': 'https://metadata.un.org/sdg/15',\n   'display_name': 'Life in Land',\n   'score': 0.18},\n  {'id': 'https://metadata.un.org/sdg/12',\n   'display_name': 'Responsible consumption and production',\n   'score': 0.16}],\n 'grants': [],\n 'referenced_works_count': 8,\n 'referenced_works': ['https://openalex.org/W14642818',\n  'https://openalex.org/W1501733677',\n  'https://openalex.org/W1520958559',\n  'https://openalex.org/W1534835840',\n  'https://openalex.org/W1582740601',\n  'https://openalex.org/W1979433390',\n  'https://openalex.org/W1990377796',\n  'https://openalex.org/W2034359619'],\n 'related_works': ['https://openalex.org/W2992231355',\n  'https://openalex.org/W2070232054',\n  'https://openalex.org/W2089025702',\n  'https://openalex.org/W2018933503',\n  'https://openalex.org/W2795192844',\n  'https://openalex.org/W2778153218',\n  'https://openalex.org/W2748952813',\n  'https://openalex.org/W2899084033',\n  'https://openalex.org/W2948807893',\n  'https://openalex.org/W1531601525'],\n 'ngrams_url': 'https://api.openalex.org/works/W2168526937/ngrams',\n 'abstract_inverted_index': None,\n 'cited_by_api_url': 'https://api.openalex.org/works?filter=cites:W2168526937',\n 'counts_by_year': [{'year': 2023, 'cited_by_count': 1295},\n  {'year': 2022, 'cited_by_count': 1658},\n  {'year': 2021, 'cited_by_count': 1839},\n  {'year': 2020, 'cited_by_count': 1870},\n  {'year': 2019, 'cited_by_count': 1738},\n  {'year': 2018, 'cited_by_count': 1662},\n  {'year': 2017, 'cited_by_count': 1613},\n  {'year': 2016, 'cited_by_count': 1714},\n  {'year': 2015, 'cited_by_count': 1816},\n  {'year': 2014, 'cited_by_count': 1872},\n  {'year': 2013, 'cited_by_count': 1875},\n  {'year': 2012, 'cited_by_count': 1725}],\n 'updated_date': '2023-11-17T04:56:16.398596',\n 'created_date': '2016-06-24'}"
     },
     "execution_count": 47,
     "metadata": {},
     "output_type": "execute_result"
    }
   ],
   "source": [
    "all_works[0]"
   ],
   "metadata": {
    "collapsed": false,
    "ExecuteTime": {
     "end_time": "2023-11-22T13:23:29.113973808Z",
     "start_time": "2023-11-22T13:23:27.508372606Z"
    }
   },
   "id": "8f8da0697322af57"
  },
  {
   "cell_type": "code",
   "execution_count": null,
   "outputs": [],
   "source": [
    "all_works [0]['concepts']"
   ],
   "metadata": {
    "collapsed": false
   },
   "id": "fb32a510bad774b5"
  },
  {
   "cell_type": "code",
   "execution_count": 53,
   "outputs": [
    {
     "data": {
      "text/plain": "'https://openalex.org/C89423630'"
     },
     "execution_count": 53,
     "metadata": {},
     "output_type": "execute_result"
    }
   ],
   "source": [],
   "metadata": {
    "collapsed": false,
    "ExecuteTime": {
     "end_time": "2023-11-22T13:28:47.987986153Z",
     "start_time": "2023-11-22T13:28:47.457605373Z"
    }
   },
   "id": "1347c3134e217945"
  }
 ],
 "metadata": {
  "kernelspec": {
   "display_name": "Python 3",
   "language": "python",
   "name": "python3"
  },
  "language_info": {
   "codemirror_mode": {
    "name": "ipython",
    "version": 2
   },
   "file_extension": ".py",
   "mimetype": "text/x-python",
   "name": "python",
   "nbconvert_exporter": "python",
   "pygments_lexer": "ipython2",
   "version": "2.7.6"
  }
 },
 "nbformat": 4,
 "nbformat_minor": 5
}
