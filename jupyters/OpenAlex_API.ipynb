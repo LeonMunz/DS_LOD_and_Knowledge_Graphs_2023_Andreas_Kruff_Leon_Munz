{
 "cells": [
  {
   "cell_type": "code",
   "execution_count": 2,
   "id": "initial_id",
   "metadata": {
    "collapsed": true,
    "ExecuteTime": {
     "end_time": "2023-11-22T12:40:42.477880957Z",
     "start_time": "2023-11-22T12:40:42.364457184Z"
    }
   },
   "outputs": [],
   "source": [
    "import requests\n",
    "from pyalex import Works, Authors, Sources, Institutions, Concepts, Publishers, Funders"
   ]
  },
  {
   "cell_type": "code",
   "execution_count": 14,
   "outputs": [],
   "source": [
    "concepts, meta = Concepts().get(return_meta=True)\n",
    "concept_names = [concept['display_name'] for page in Concepts().paginate(per_page=200) for concept in page]"
   ],
   "metadata": {
    "collapsed": false,
    "ExecuteTime": {
     "end_time": "2023-11-22T12:48:19.869023935Z",
     "start_time": "2023-11-22T12:46:47.962742492Z"
    }
   },
   "id": "428c39d3261574b2"
  },
  {
   "cell_type": "code",
   "execution_count": 18,
   "outputs": [
    {
     "data": {
      "text/plain": "10000"
     },
     "execution_count": 18,
     "metadata": {},
     "output_type": "execute_result"
    }
   ],
   "source": [
    "len(concept_names)"
   ],
   "metadata": {
    "collapsed": false,
    "ExecuteTime": {
     "end_time": "2023-11-22T12:51:26.130208741Z",
     "start_time": "2023-11-22T12:51:26.089043081Z"
    }
   },
   "id": "48d2b869d099caf8"
  },
  {
   "cell_type": "code",
   "execution_count": 17,
   "outputs": [
    {
     "name": "stdout",
     "output_type": "stream",
     "text": [
      "Gefundene Concepts mit dem Suchbegriff 'Microbiology' :\n",
      "['Microbiology', 'Isolation (microbiology)', 'Flora (microbiology)', 'Medical microbiology', 'Clinical microbiology']\n"
     ]
    }
   ],
   "source": [
    "search_term = \"Microbiology\"\n",
    "# Search for concept\n",
    "matching_concepts = [concept_name for concept_name in concept_names if search_term.lower() in concept_name.lower()]\n",
    "print(matching_concepts)"
   ],
   "metadata": {
    "collapsed": false,
    "ExecuteTime": {
     "end_time": "2023-11-22T12:49:30.649141930Z",
     "start_time": "2023-11-22T12:49:30.607126949Z"
    }
   },
   "id": "523e0c03d97a36dc"
  }
 ],
 "metadata": {
  "kernelspec": {
   "display_name": "Python 3",
   "language": "python",
   "name": "python3"
  },
  "language_info": {
   "codemirror_mode": {
    "name": "ipython",
    "version": 2
   },
   "file_extension": ".py",
   "mimetype": "text/x-python",
   "name": "python",
   "nbconvert_exporter": "python",
   "pygments_lexer": "ipython2",
   "version": "2.7.6"
  }
 },
 "nbformat": 4,
 "nbformat_minor": 5
}
