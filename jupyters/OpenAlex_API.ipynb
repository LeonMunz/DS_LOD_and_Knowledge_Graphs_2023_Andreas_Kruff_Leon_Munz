{
 "cells": [
  {
   "cell_type": "code",
   "execution_count": 1,
   "id": "initial_id",
   "metadata": {
    "collapsed": true,
    "ExecuteTime": {
     "end_time": "2023-12-04T16:00:48.123417541Z",
     "start_time": "2023-12-04T16:00:47.659134786Z"
    }
   },
   "outputs": [],
   "source": [
    "import os.path\n",
    "\n",
    "import requests\n",
    "from pyalex import Works, Authors, Sources, Institutions, Concepts, Publishers, Funders"
   ]
  },
  {
   "cell_type": "code",
   "execution_count": 2,
   "outputs": [],
   "source": [
    "concepts, meta = Concepts().get(return_meta=True)\n",
    "concept_names = [concept['display_name'] for page in Concepts().paginate(per_page=200) for concept in page]"
   ],
   "metadata": {
    "collapsed": false,
    "ExecuteTime": {
     "end_time": "2023-12-04T16:02:09.753875278Z",
     "start_time": "2023-12-04T16:00:47.700163003Z"
    }
   },
   "id": "428c39d3261574b2"
  },
  {
   "cell_type": "code",
   "execution_count": 3,
   "outputs": [
    {
     "data": {
      "text/plain": "10000"
     },
     "execution_count": 3,
     "metadata": {},
     "output_type": "execute_result"
    }
   ],
   "source": [
    "len(concept_names)"
   ],
   "metadata": {
    "collapsed": false,
    "ExecuteTime": {
     "end_time": "2023-12-04T16:02:09.755355371Z",
     "start_time": "2023-12-04T16:02:09.699862992Z"
    }
   },
   "id": "48d2b869d099caf8"
  },
  {
   "cell_type": "code",
   "execution_count": 4,
   "outputs": [
    {
     "name": "stdout",
     "output_type": "stream",
     "text": [
      "['Microbiology', 'Isolation (microbiology)', 'Flora (microbiology)', 'Medical microbiology', 'Clinical microbiology']\n"
     ]
    }
   ],
   "source": [
    "search_term = \"Microbiology\"\n",
    "# Search for concept\n",
    "matching_concepts = [concept_name for concept_name in concept_names if search_term.lower() in concept_name.lower()]\n",
    "print(matching_concepts)"
   ],
   "metadata": {
    "collapsed": false,
    "ExecuteTime": {
     "end_time": "2023-12-04T16:02:09.756183338Z",
     "start_time": "2023-12-04T16:02:09.703585188Z"
    }
   },
   "id": "ede3b116e90e07cb"
  },
  {
   "cell_type": "code",
   "execution_count": 5,
   "outputs": [
    {
     "data": {
      "text/plain": "'https://openalex.org/C89423630'"
     },
     "execution_count": 5,
     "metadata": {},
     "output_type": "execute_result"
    }
   ],
   "source": [
    "microbiology_concepts = Concepts().search(\"Microbiology\").get()\n",
    "microbiology_concept_id = microbiology_concepts[0][\"id\"]\n",
    "microbiology_concept_id"
   ],
   "metadata": {
    "collapsed": false,
    "ExecuteTime": {
     "end_time": "2023-12-04T16:02:10.394684771Z",
     "start_time": "2023-12-04T16:02:09.715629329Z"
    }
   },
   "id": "480778f789062b2e"
  },
  {
   "cell_type": "code",
   "execution_count": 6,
   "outputs": [],
   "source": [
    "microbiology_concepts = Concepts().search(\"Microbiology\").get()\n",
    "\n",
    "if microbiology_concepts:\n",
    "    microbiology_concept_id = microbiology_concepts[0][\"id\"]\n",
    "    microbiology_works = Works().filter(concepts={\"id\": microbiology_concept_id}).get()"
   ],
   "metadata": {
    "collapsed": false,
    "ExecuteTime": {
     "end_time": "2023-12-04T16:02:12.016884785Z",
     "start_time": "2023-12-04T16:02:10.305143535Z"
    }
   },
   "id": "467b70d7dc1ac7e9"
  },
  {
   "cell_type": "code",
   "execution_count": 7,
   "outputs": [
    {
     "data": {
      "text/plain": "25"
     },
     "execution_count": 7,
     "metadata": {},
     "output_type": "execute_result"
    }
   ],
   "source": [
    "len(microbiology_works)"
   ],
   "metadata": {
    "collapsed": false,
    "ExecuteTime": {
     "end_time": "2023-12-04T16:02:12.017458510Z",
     "start_time": "2023-12-04T16:02:11.900643532Z"
    }
   },
   "id": "4c318a01ed34eda"
  },
  {
   "cell_type": "code",
   "execution_count": 8,
   "outputs": [],
   "source": [
    "microbiology_concepts = Concepts().search(\"Microbiology\").get()\n",
    "\n",
    "if microbiology_concepts:\n",
    "    # Take ID of first found concept\n",
    "    microbiology_concept_id = microbiology_concepts[0][\"id\"]\n",
    "    # Filter for concept\n",
    "    works_query = Works().filter(concepts={\"id\": microbiology_concept_id})\n",
    "    # Paging\n",
    "    per_page = 25\n",
    "    pager = works_query.paginate(per_page=per_page)\n",
    "\n",
    "    all_works = []\n",
    "    for page in pager:\n",
    "        all_works.extend(page)"
   ],
   "metadata": {
    "collapsed": false,
    "ExecuteTime": {
     "end_time": "2023-12-04T16:07:40.178829784Z",
     "start_time": "2023-12-04T16:02:11.905102582Z"
    }
   },
   "id": "5cc43e64d4a1bcec"
  },
  {
   "cell_type": "code",
   "execution_count": 9,
   "outputs": [
    {
     "data": {
      "text/plain": "10000"
     },
     "execution_count": 9,
     "metadata": {},
     "output_type": "execute_result"
    }
   ],
   "source": [
    "len(all_works)"
   ],
   "metadata": {
    "collapsed": false,
    "ExecuteTime": {
     "end_time": "2023-12-04T16:07:40.179529475Z",
     "start_time": "2023-12-04T16:07:40.178659345Z"
    }
   },
   "id": "bdac0d8b925cb9f6"
  },
  {
   "cell_type": "code",
   "execution_count": 24,
   "outputs": [],
   "source": [
    "import json\n",
    "import pickle\n",
    "import os\n",
    "pickle_file_path = os.path.join('..', 'data', 'dataset_10k.pickle')\n",
    "#pickle_file_path = 'data/dataset_10k.pickle'\n",
    "\n",
    "# Jetzt kannst du die Pickle-Datei erstellen\n",
    "with open(pickle_file_path, \"wb\") as pickle_file:\n",
    "    pickle.dump(all_works, pickle_file)"
   ],
   "metadata": {
    "collapsed": false,
    "ExecuteTime": {
     "end_time": "2023-12-04T16:32:03.083090929Z",
     "start_time": "2023-12-04T16:32:01.039110403Z"
    }
   },
   "id": "7b051893939cab40"
  },
  {
   "cell_type": "code",
   "execution_count": 10,
   "outputs": [
    {
     "data": {
      "text/plain": "{'id': 'https://openalex.org/W2168526937',\n 'doi': 'https://doi.org/10.1016/s0021-9258(18)64849-5',\n 'title': 'A SIMPLE METHOD FOR THE ISOLATION AND PURIFICATION OF TOTAL LIPIDES FROM ANIMAL TISSUES',\n 'display_name': 'A SIMPLE METHOD FOR THE ISOLATION AND PURIFICATION OF TOTAL LIPIDES FROM ANIMAL TISSUES',\n 'publication_year': 1957,\n 'publication_date': '1957-05-01',\n 'ids': {'openalex': 'https://openalex.org/W2168526937',\n  'doi': 'https://doi.org/10.1016/s0021-9258(18)64849-5',\n  'mag': '2168526937',\n  'pmid': 'https://pubmed.ncbi.nlm.nih.gov/13428781'},\n 'language': 'en',\n 'primary_location': {'is_oa': True,\n  'landing_page_url': 'https://doi.org/10.1016/s0021-9258(18)64849-5',\n  'pdf_url': None,\n  'source': {'id': 'https://openalex.org/S140251998',\n   'display_name': 'Journal of Biological Chemistry',\n   'issn_l': '0021-9258',\n   'issn': ['1083-351X', '0021-9258', '1067-8816'],\n   'is_oa': True,\n   'is_in_doaj': True,\n   'host_organization': 'https://openalex.org/P4310320990',\n   'host_organization_name': 'Elsevier BV',\n   'host_organization_lineage': ['https://openalex.org/P4310320990'],\n   'host_organization_lineage_names': ['Elsevier BV'],\n   'type': 'journal'},\n  'license': 'cc-by',\n  'version': 'publishedVersion',\n  'is_accepted': True,\n  'is_published': True},\n 'type': 'article',\n 'type_crossref': 'journal-article',\n 'open_access': {'is_oa': True,\n  'oa_status': 'gold',\n  'oa_url': 'https://doi.org/10.1016/s0021-9258(18)64849-5',\n  'any_repository_has_fulltext': False},\n 'authorships': [{'author_position': 'first',\n   'author': {'id': 'https://openalex.org/A5060503589',\n    'display_name': 'Jordi Folch',\n    'orcid': None},\n   'institutions': [],\n   'countries': [],\n   'is_corresponding': False,\n   'raw_author_name': 'Jordi Folch',\n   'raw_affiliation_string': '',\n   'raw_affiliation_strings': []},\n  {'author_position': 'middle',\n   'author': {'id': 'https://openalex.org/A5035124128',\n    'display_name': 'Marjorie B. Lees',\n    'orcid': None},\n   'institutions': [],\n   'countries': [],\n   'is_corresponding': False,\n   'raw_author_name': 'Marjorie B. Lees',\n   'raw_affiliation_string': '',\n   'raw_affiliation_strings': []},\n  {'author_position': 'last',\n   'author': {'id': 'https://openalex.org/A5037180728',\n    'display_name': 'G. H. Sloane Stanley',\n    'orcid': None},\n   'institutions': [],\n   'countries': [],\n   'is_corresponding': False,\n   'raw_author_name': 'G. H. Sloane Stanley',\n   'raw_affiliation_string': '',\n   'raw_affiliation_strings': []}],\n 'countries_distinct_count': 0,\n 'institutions_distinct_count': 0,\n 'corresponding_author_ids': [],\n 'corresponding_institution_ids': [],\n 'apc_list': {'value': 2500,\n  'currency': 'USD',\n  'value_usd': 2500,\n  'provenance': 'doaj'},\n 'apc_paid': {'value': 2500,\n  'currency': 'USD',\n  'value_usd': 2500,\n  'provenance': 'doaj'},\n 'has_fulltext': False,\n 'cited_by_count': 58268,\n 'cited_by_percentile_year': None,\n 'biblio': {'volume': '226',\n  'issue': '1',\n  'first_page': '497',\n  'last_page': '509'},\n 'is_retracted': False,\n 'is_paratext': False,\n 'keywords': [{'keyword': 'total lipides', 'score': 0.7032},\n  {'keyword': 'purification', 'score': 0.3534},\n  {'keyword': 'animal tissues', 'score': 0.3398}],\n 'concepts': [{'id': 'https://openalex.org/C2775941552',\n   'wikidata': 'https://www.wikidata.org/wiki/Q25212305',\n   'display_name': 'Isolation (microbiology)',\n   'level': 2,\n   'score': 0.78182},\n  {'id': 'https://openalex.org/C2780586882',\n   'wikidata': 'https://www.wikidata.org/wiki/Q7520643',\n   'display_name': 'Simple (philosophy)',\n   'level': 2,\n   'score': 0.6611569},\n  {'id': 'https://openalex.org/C185592680',\n   'wikidata': 'https://www.wikidata.org/wiki/Q2329',\n   'display_name': 'Chemistry',\n   'level': 0,\n   'score': 0.45555764},\n  {'id': 'https://openalex.org/C43617362',\n   'wikidata': 'https://www.wikidata.org/wiki/Q170050',\n   'display_name': 'Chromatography',\n   'level': 1,\n   'score': 0.41951185},\n  {'id': 'https://openalex.org/C86803240',\n   'wikidata': 'https://www.wikidata.org/wiki/Q420',\n   'display_name': 'Biology',\n   'level': 0,\n   'score': 0.41250244},\n  {'id': 'https://openalex.org/C55493867',\n   'wikidata': 'https://www.wikidata.org/wiki/Q7094',\n   'display_name': 'Biochemistry',\n   'level': 1,\n   'score': 0.36000553},\n  {'id': 'https://openalex.org/C89423630',\n   'wikidata': 'https://www.wikidata.org/wiki/Q7193',\n   'display_name': 'Microbiology',\n   'level': 1,\n   'score': 0.15734282},\n  {'id': 'https://openalex.org/C138885662',\n   'wikidata': 'https://www.wikidata.org/wiki/Q5891',\n   'display_name': 'Philosophy',\n   'level': 0,\n   'score': 0.0},\n  {'id': 'https://openalex.org/C111472728',\n   'wikidata': 'https://www.wikidata.org/wiki/Q9471',\n   'display_name': 'Epistemology',\n   'level': 1,\n   'score': 0.0}],\n 'mesh': [],\n 'locations_count': 1,\n 'locations': [{'is_oa': True,\n   'landing_page_url': 'https://doi.org/10.1016/s0021-9258(18)64849-5',\n   'pdf_url': None,\n   'source': {'id': 'https://openalex.org/S140251998',\n    'display_name': 'Journal of Biological Chemistry',\n    'issn_l': '0021-9258',\n    'issn': ['1083-351X', '0021-9258', '1067-8816'],\n    'is_oa': True,\n    'is_in_doaj': True,\n    'host_organization': 'https://openalex.org/P4310320990',\n    'host_organization_name': 'Elsevier BV',\n    'host_organization_lineage': ['https://openalex.org/P4310320990'],\n    'host_organization_lineage_names': ['Elsevier BV'],\n    'type': 'journal'},\n   'license': 'cc-by',\n   'version': 'publishedVersion',\n   'is_accepted': True,\n   'is_published': True}],\n 'best_oa_location': {'is_oa': True,\n  'landing_page_url': 'https://doi.org/10.1016/s0021-9258(18)64849-5',\n  'pdf_url': None,\n  'source': {'id': 'https://openalex.org/S140251998',\n   'display_name': 'Journal of Biological Chemistry',\n   'issn_l': '0021-9258',\n   'issn': ['1083-351X', '0021-9258', '1067-8816'],\n   'is_oa': True,\n   'is_in_doaj': True,\n   'host_organization': 'https://openalex.org/P4310320990',\n   'host_organization_name': 'Elsevier BV',\n   'host_organization_lineage': ['https://openalex.org/P4310320990'],\n   'host_organization_lineage_names': ['Elsevier BV'],\n   'type': 'journal'},\n  'license': 'cc-by',\n  'version': 'publishedVersion',\n  'is_accepted': True,\n  'is_published': True},\n 'sustainable_development_goals': [{'id': 'https://metadata.un.org/sdg/2',\n   'display_name': 'Zero hunger',\n   'score': 0.65},\n  {'id': 'https://metadata.un.org/sdg/15',\n   'display_name': 'Life in Land',\n   'score': 0.18},\n  {'id': 'https://metadata.un.org/sdg/12',\n   'display_name': 'Responsible consumption and production',\n   'score': 0.16}],\n 'grants': [],\n 'referenced_works_count': 8,\n 'referenced_works': ['https://openalex.org/W14642818',\n  'https://openalex.org/W1501733677',\n  'https://openalex.org/W1520958559',\n  'https://openalex.org/W1534835840',\n  'https://openalex.org/W1582740601',\n  'https://openalex.org/W1979433390',\n  'https://openalex.org/W1990377796',\n  'https://openalex.org/W2034359619'],\n 'related_works': ['https://openalex.org/W2992231355',\n  'https://openalex.org/W2070232054',\n  'https://openalex.org/W2089025702',\n  'https://openalex.org/W2018933503',\n  'https://openalex.org/W2795192844',\n  'https://openalex.org/W2778153218',\n  'https://openalex.org/W2748952813',\n  'https://openalex.org/W2899084033',\n  'https://openalex.org/W2948807893',\n  'https://openalex.org/W1531601525'],\n 'ngrams_url': 'https://api.openalex.org/works/W2168526937/ngrams',\n 'abstract_inverted_index': None,\n 'cited_by_api_url': 'https://api.openalex.org/works?filter=cites:W2168526937',\n 'counts_by_year': [{'year': 2023, 'cited_by_count': 1295},\n  {'year': 2022, 'cited_by_count': 1658},\n  {'year': 2021, 'cited_by_count': 1839},\n  {'year': 2020, 'cited_by_count': 1870},\n  {'year': 2019, 'cited_by_count': 1738},\n  {'year': 2018, 'cited_by_count': 1662},\n  {'year': 2017, 'cited_by_count': 1613},\n  {'year': 2016, 'cited_by_count': 1714},\n  {'year': 2015, 'cited_by_count': 1816},\n  {'year': 2014, 'cited_by_count': 1872},\n  {'year': 2013, 'cited_by_count': 1875},\n  {'year': 2012, 'cited_by_count': 1725}],\n 'updated_date': '2023-11-26T12:24:59.714441',\n 'created_date': '2016-06-24'}"
     },
     "execution_count": 10,
     "metadata": {},
     "output_type": "execute_result"
    }
   ],
   "source": [
    "all_works[0]"
   ],
   "metadata": {
    "collapsed": false,
    "ExecuteTime": {
     "end_time": "2023-12-04T16:07:40.180827113Z",
     "start_time": "2023-12-04T16:07:40.179008401Z"
    }
   },
   "id": "8f8da0697322af57"
  },
  {
   "cell_type": "code",
   "execution_count": 11,
   "outputs": [
    {
     "data": {
      "text/plain": "[{'id': 'https://openalex.org/C2775941552',\n  'wikidata': 'https://www.wikidata.org/wiki/Q25212305',\n  'display_name': 'Isolation (microbiology)',\n  'level': 2,\n  'score': 0.78182},\n {'id': 'https://openalex.org/C2780586882',\n  'wikidata': 'https://www.wikidata.org/wiki/Q7520643',\n  'display_name': 'Simple (philosophy)',\n  'level': 2,\n  'score': 0.6611569},\n {'id': 'https://openalex.org/C185592680',\n  'wikidata': 'https://www.wikidata.org/wiki/Q2329',\n  'display_name': 'Chemistry',\n  'level': 0,\n  'score': 0.45555764},\n {'id': 'https://openalex.org/C43617362',\n  'wikidata': 'https://www.wikidata.org/wiki/Q170050',\n  'display_name': 'Chromatography',\n  'level': 1,\n  'score': 0.41951185},\n {'id': 'https://openalex.org/C86803240',\n  'wikidata': 'https://www.wikidata.org/wiki/Q420',\n  'display_name': 'Biology',\n  'level': 0,\n  'score': 0.41250244},\n {'id': 'https://openalex.org/C55493867',\n  'wikidata': 'https://www.wikidata.org/wiki/Q7094',\n  'display_name': 'Biochemistry',\n  'level': 1,\n  'score': 0.36000553},\n {'id': 'https://openalex.org/C89423630',\n  'wikidata': 'https://www.wikidata.org/wiki/Q7193',\n  'display_name': 'Microbiology',\n  'level': 1,\n  'score': 0.15734282},\n {'id': 'https://openalex.org/C138885662',\n  'wikidata': 'https://www.wikidata.org/wiki/Q5891',\n  'display_name': 'Philosophy',\n  'level': 0,\n  'score': 0.0},\n {'id': 'https://openalex.org/C111472728',\n  'wikidata': 'https://www.wikidata.org/wiki/Q9471',\n  'display_name': 'Epistemology',\n  'level': 1,\n  'score': 0.0}]"
     },
     "execution_count": 11,
     "metadata": {},
     "output_type": "execute_result"
    }
   ],
   "source": [
    "all_works [0]['concepts']"
   ],
   "metadata": {
    "collapsed": false,
    "ExecuteTime": {
     "end_time": "2023-12-04T16:07:40.182127501Z",
     "start_time": "2023-12-04T16:07:40.179288457Z"
    }
   },
   "id": "fb32a510bad774b5"
  },
  {
   "cell_type": "code",
   "execution_count": 12,
   "outputs": [
    {
     "data": {
      "text/plain": "[{'year': 2023, 'cited_by_count': 69},\n {'year': 2022, 'cited_by_count': 105},\n {'year': 2021, 'cited_by_count': 125},\n {'year': 2020, 'cited_by_count': 122},\n {'year': 2019, 'cited_by_count': 112},\n {'year': 2018, 'cited_by_count': 134},\n {'year': 2017, 'cited_by_count': 137},\n {'year': 2016, 'cited_by_count': 137},\n {'year': 2015, 'cited_by_count': 161},\n {'year': 2014, 'cited_by_count': 181},\n {'year': 2013, 'cited_by_count': 172},\n {'year': 2012, 'cited_by_count': 171}]"
     },
     "execution_count": 12,
     "metadata": {},
     "output_type": "execute_result"
    }
   ],
   "source": [
    "all_works[55]['counts_by_year']"
   ],
   "metadata": {
    "collapsed": false,
    "ExecuteTime": {
     "end_time": "2023-12-04T16:07:40.185319952Z",
     "start_time": "2023-12-04T16:07:40.179811362Z"
    }
   },
   "id": "57186b1733794c56"
  },
  {
   "cell_type": "code",
   "execution_count": 13,
   "outputs": [
    {
     "data": {
      "text/plain": "0"
     },
     "execution_count": 13,
     "metadata": {},
     "output_type": "execute_result"
    }
   ],
   "source": [
    "all_works[0]['countries_distinct_count']"
   ],
   "metadata": {
    "collapsed": false,
    "ExecuteTime": {
     "end_time": "2023-12-04T16:07:40.246697288Z",
     "start_time": "2023-12-04T16:07:40.186689280Z"
    }
   },
   "id": "219ba685a9568a16"
  }
 ],
 "metadata": {
  "kernelspec": {
   "display_name": "Python 3",
   "language": "python",
   "name": "python3"
  },
  "language_info": {
   "codemirror_mode": {
    "name": "ipython",
    "version": 2
   },
   "file_extension": ".py",
   "mimetype": "text/x-python",
   "name": "python",
   "nbconvert_exporter": "python",
   "pygments_lexer": "ipython2",
   "version": "2.7.6"
  }
 },
 "nbformat": 4,
 "nbformat_minor": 5
}
